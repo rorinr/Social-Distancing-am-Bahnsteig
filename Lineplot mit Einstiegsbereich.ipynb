{
 "cells": [
  {
   "cell_type": "code",
   "execution_count": 12,
   "metadata": {},
   "outputs": [],
   "source": [
    "from ipynb.fs.full.whole_df import get_uppers, get_downers, get_whole_df, get_average_person_number, get_all_distances\n",
    "import os\n",
    "import numpy as np\n",
    "import itertools\n",
    "import pandas as pd\n",
    "import statistics\n",
    "import math\n",
    "import seaborn as sb\n",
    "import matplotlib.pyplot as plt"
   ]
  },
  {
   "cell_type": "code",
   "execution_count": 13,
   "metadata": {},
   "outputs": [
    {
     "data": {
      "text/html": [
       "<div>\n",
       "<style scoped>\n",
       "    .dataframe tbody tr th:only-of-type {\n",
       "        vertical-align: middle;\n",
       "    }\n",
       "\n",
       "    .dataframe tbody tr th {\n",
       "        vertical-align: top;\n",
       "    }\n",
       "\n",
       "    .dataframe thead th {\n",
       "        text-align: right;\n",
       "    }\n",
       "</style>\n",
       "<table border=\"1\" class=\"dataframe\">\n",
       "  <thead>\n",
       "    <tr style=\"text-align: right;\">\n",
       "      <th></th>\n",
       "      <th>Date</th>\n",
       "      <th>d&lt;=0.5</th>\n",
       "      <th>0.5&lt;d&lt;=1</th>\n",
       "      <th>1&lt;d&lt;=1.5</th>\n",
       "      <th>1.5&lt;d&lt;=2</th>\n",
       "      <th>2&lt;d&lt;=2.5</th>\n",
       "      <th>2.5&lt;d&lt;=3</th>\n",
       "      <th>3&lt;d</th>\n",
       "    </tr>\n",
       "  </thead>\n",
       "  <tbody>\n",
       "  </tbody>\n",
       "</table>\n",
       "</div>"
      ],
      "text/plain": [
       "Empty DataFrame\n",
       "Columns: [Date, d<=0.5, 0.5<d<=1, 1<d<=1.5, 1.5<d<=2, 2<d<=2.5, 2.5<d<=3, 3<d]\n",
       "Index: []"
      ]
     },
     "execution_count": 13,
     "metadata": {},
     "output_type": "execute_result"
    }
   ],
   "source": [
    "columns = columns = [\"Date\", \"d<=0.5\", \"0.5<d<=1\", \"1<d<=1.5\", \"1.5<d<=2\", \"2<d<=2.5\", \"2.5<d<=3\", \"3<d\"]\n",
    "heatmapDf = pd.DataFrame(columns = columns)\n",
    "#heatmapDf = heatmapDf.append({\"Date\": 1, \"d<=0.5\": 1, \"0.5<d<=1\": 1, \"1<d<=1.5\": 1, \"1.5<d<=2\": 1, \"2<d<=2.5\": 1, \"2.5<d<=3\": 1, \"3<d\": 1}, ignore_index = True)\n",
    "heatmapDf"
   ]
  },
  {
   "cell_type": "code",
   "execution_count": 14,
   "metadata": {},
   "outputs": [
    {
     "name": "stdout",
     "output_type": "stream",
     "text": [
      "ZHDB_0304_6_20.txt\n",
      "3884 Abstände wurden gemessen\n",
      "ZHDB_0401_6_20.txt\n",
      "496 Abstände wurden gemessen\n",
      "ZHDB_0506_6_20.txt\n",
      "1235 Abstände wurden gemessen\n"
     ]
    }
   ],
   "source": [
    "#StandardDeviation ist nicht sinnvoll, da alle Abstände sowieso schon in kleinen Intervallen liegen\n",
    "for filename in os.listdir(r\"C:\\Users\\robin\\Documents\\Bachelorarbeit\\Daten ZHDB\"):\n",
    "    if \"0304\" in filename or \"0401\" in filename or \"0506\" in filename:\n",
    "        df = get_whole_df(filename, 5, 5)\n",
    "        borderDistance = get_all_distances(df)\n",
    "        print(str(len(borderDistance)) + \" Abstände wurden gemessen\")\n",
    "        halfMeter = len([i for i in borderDistance if i <= 0.5])\n",
    "        oneMeter = len([i for i in borderDistance if (i <= 1) and (i > 0.5)])\n",
    "        oneAndHalfMeter = len([i for i in borderDistance if (i <= 1.5) and (i > 1)])\n",
    "        twoMeter = len([i for i in borderDistance if (i <= 2) and (i > 1.5)])\n",
    "        twoAndHalfMeter = len([i for i in borderDistance if (i <= 2.5) and (i > 2)])\n",
    "        threeMeter = len([i for i in borderDistance if (i <= 3) and (i > 2.5)])\n",
    "        biggerThree = len([i for i in borderDistance if i > 3])\n",
    "        heatmapDf = heatmapDf.append({\"Date\": filename, \"d<=0.5\": halfMeter, \"0.5<d<=1\": oneMeter, \"1<d<=1.5\": oneAndHalfMeter, \n",
    "                                      \"1.5<d<=2\": twoMeter, \"2<d<=2.5\": twoAndHalfMeter, \"2.5<d<=3\": threeMeter, \n",
    "                                      \"3<d\": biggerThree}, ignore_index = True)"
   ]
  },
  {
   "cell_type": "code",
   "execution_count": 15,
   "metadata": {
    "scrolled": true
   },
   "outputs": [
    {
     "data": {
      "text/html": [
       "<div>\n",
       "<style scoped>\n",
       "    .dataframe tbody tr th:only-of-type {\n",
       "        vertical-align: middle;\n",
       "    }\n",
       "\n",
       "    .dataframe tbody tr th {\n",
       "        vertical-align: top;\n",
       "    }\n",
       "\n",
       "    .dataframe thead th {\n",
       "        text-align: right;\n",
       "    }\n",
       "</style>\n",
       "<table border=\"1\" class=\"dataframe\">\n",
       "  <thead>\n",
       "    <tr style=\"text-align: right;\">\n",
       "      <th></th>\n",
       "      <th>Date</th>\n",
       "      <th>d&lt;=0.5</th>\n",
       "      <th>0.5&lt;d&lt;=1</th>\n",
       "      <th>1&lt;d&lt;=1.5</th>\n",
       "      <th>1.5&lt;d&lt;=2</th>\n",
       "      <th>2&lt;d&lt;=2.5</th>\n",
       "      <th>2.5&lt;d&lt;=3</th>\n",
       "      <th>3&lt;d</th>\n",
       "    </tr>\n",
       "  </thead>\n",
       "  <tbody>\n",
       "    <tr>\n",
       "      <th>0</th>\n",
       "      <td>ZHDB_0304_6_20.txt</td>\n",
       "      <td>89</td>\n",
       "      <td>1123</td>\n",
       "      <td>811</td>\n",
       "      <td>691</td>\n",
       "      <td>492</td>\n",
       "      <td>363</td>\n",
       "      <td>315</td>\n",
       "    </tr>\n",
       "    <tr>\n",
       "      <th>1</th>\n",
       "      <td>ZHDB_0401_6_20.txt</td>\n",
       "      <td>2</td>\n",
       "      <td>70</td>\n",
       "      <td>143</td>\n",
       "      <td>87</td>\n",
       "      <td>80</td>\n",
       "      <td>44</td>\n",
       "      <td>70</td>\n",
       "    </tr>\n",
       "    <tr>\n",
       "      <th>2</th>\n",
       "      <td>ZHDB_0506_6_20.txt</td>\n",
       "      <td>53</td>\n",
       "      <td>258</td>\n",
       "      <td>285</td>\n",
       "      <td>214</td>\n",
       "      <td>162</td>\n",
       "      <td>128</td>\n",
       "      <td>135</td>\n",
       "    </tr>\n",
       "  </tbody>\n",
       "</table>\n",
       "</div>"
      ],
      "text/plain": [
       "                 Date d<=0.5 0.5<d<=1 1<d<=1.5 1.5<d<=2 2<d<=2.5 2.5<d<=3  3<d\n",
       "0  ZHDB_0304_6_20.txt     89     1123      811      691      492      363  315\n",
       "1  ZHDB_0401_6_20.txt      2       70      143       87       80       44   70\n",
       "2  ZHDB_0506_6_20.txt     53      258      285      214      162      128  135"
      ]
     },
     "execution_count": 15,
     "metadata": {},
     "output_type": "execute_result"
    }
   ],
   "source": [
    "heatmapDf"
   ]
  },
  {
   "cell_type": "code",
   "execution_count": 16,
   "metadata": {},
   "outputs": [],
   "source": [
    "date = heatmapDf[\"Date\"]\n",
    "heatmapDfRelatvie = pd.DataFrame(columns = columns)"
   ]
  },
  {
   "cell_type": "code",
   "execution_count": 17,
   "metadata": {
    "scrolled": true
   },
   "outputs": [
    {
     "data": {
      "text/html": [
       "<div>\n",
       "<style scoped>\n",
       "    .dataframe tbody tr th:only-of-type {\n",
       "        vertical-align: middle;\n",
       "    }\n",
       "\n",
       "    .dataframe tbody tr th {\n",
       "        vertical-align: top;\n",
       "    }\n",
       "\n",
       "    .dataframe thead th {\n",
       "        text-align: right;\n",
       "    }\n",
       "</style>\n",
       "<table border=\"1\" class=\"dataframe\">\n",
       "  <thead>\n",
       "    <tr style=\"text-align: right;\">\n",
       "      <th></th>\n",
       "      <th>Date</th>\n",
       "      <th>d&lt;=0.5</th>\n",
       "      <th>0.5&lt;d&lt;=1</th>\n",
       "      <th>1&lt;d&lt;=1.5</th>\n",
       "      <th>1.5&lt;d&lt;=2</th>\n",
       "      <th>2&lt;d&lt;=2.5</th>\n",
       "      <th>2.5&lt;d&lt;=3</th>\n",
       "      <th>3&lt;d</th>\n",
       "    </tr>\n",
       "  </thead>\n",
       "  <tbody>\n",
       "    <tr>\n",
       "      <th>0</th>\n",
       "      <td>ZHDB_0304_6_20.txt</td>\n",
       "      <td>0.022915</td>\n",
       "      <td>0.289135</td>\n",
       "      <td>0.208805</td>\n",
       "      <td>0.177909</td>\n",
       "      <td>0.126674</td>\n",
       "      <td>0.093460</td>\n",
       "      <td>0.081102</td>\n",
       "    </tr>\n",
       "    <tr>\n",
       "      <th>1</th>\n",
       "      <td>ZHDB_0401_6_20.txt</td>\n",
       "      <td>0.004032</td>\n",
       "      <td>0.141129</td>\n",
       "      <td>0.288306</td>\n",
       "      <td>0.175403</td>\n",
       "      <td>0.161290</td>\n",
       "      <td>0.088710</td>\n",
       "      <td>0.141129</td>\n",
       "    </tr>\n",
       "    <tr>\n",
       "      <th>2</th>\n",
       "      <td>ZHDB_0506_6_20.txt</td>\n",
       "      <td>0.042915</td>\n",
       "      <td>0.208907</td>\n",
       "      <td>0.230769</td>\n",
       "      <td>0.173279</td>\n",
       "      <td>0.131174</td>\n",
       "      <td>0.103644</td>\n",
       "      <td>0.109312</td>\n",
       "    </tr>\n",
       "  </tbody>\n",
       "</table>\n",
       "</div>"
      ],
      "text/plain": [
       "                 Date    d<=0.5  0.5<d<=1  1<d<=1.5  1.5<d<=2  2<d<=2.5  \\\n",
       "0  ZHDB_0304_6_20.txt  0.022915  0.289135  0.208805  0.177909  0.126674   \n",
       "1  ZHDB_0401_6_20.txt  0.004032  0.141129  0.288306  0.175403  0.161290   \n",
       "2  ZHDB_0506_6_20.txt  0.042915  0.208907  0.230769  0.173279  0.131174   \n",
       "\n",
       "   2.5<d<=3       3<d  \n",
       "0  0.093460  0.081102  \n",
       "1  0.088710  0.141129  \n",
       "2  0.103644  0.109312  "
      ]
     },
     "execution_count": 17,
     "metadata": {},
     "output_type": "execute_result"
    }
   ],
   "source": [
    "for index, row in heatmapDf.iterrows():\n",
    "    anzahlAbstande = sum(row[1:])\n",
    "    date = row[0]\n",
    "    relativeAbstande = row[1:]/anzahlAbstande\n",
    "    heatmapDfRelatvie = heatmapDfRelatvie.append({\"Date\": date, \"d<=0.5\": relativeAbstande[0], \"0.5<d<=1\": relativeAbstande[1], \n",
    "                                                  \"1<d<=1.5\": relativeAbstande[2], \"1.5<d<=2\": relativeAbstande[3], \n",
    "                                                  \"2<d<=2.5\": relativeAbstande[4], \"2.5<d<=3\": relativeAbstande[5],\n",
    "                                                  \"3<d\": relativeAbstande[6]}, ignore_index = True)\n",
    "heatmapDfRelatvie"
   ]
  },
  {
   "cell_type": "code",
   "execution_count": 18,
   "metadata": {
    "scrolled": true
   },
   "outputs": [
    {
     "data": {
      "text/html": [
       "<div>\n",
       "<style scoped>\n",
       "    .dataframe tbody tr th:only-of-type {\n",
       "        vertical-align: middle;\n",
       "    }\n",
       "\n",
       "    .dataframe tbody tr th {\n",
       "        vertical-align: top;\n",
       "    }\n",
       "\n",
       "    .dataframe thead th {\n",
       "        text-align: right;\n",
       "    }\n",
       "</style>\n",
       "<table border=\"1\" class=\"dataframe\">\n",
       "  <thead>\n",
       "    <tr style=\"text-align: right;\">\n",
       "      <th></th>\n",
       "      <th>d&lt;=0.5</th>\n",
       "      <th>0.5&lt;d&lt;=1</th>\n",
       "      <th>1&lt;d&lt;=1.5</th>\n",
       "      <th>1.5&lt;d&lt;=2</th>\n",
       "      <th>2&lt;d&lt;=2.5</th>\n",
       "      <th>2.5&lt;d&lt;=3</th>\n",
       "      <th>3&lt;d</th>\n",
       "    </tr>\n",
       "    <tr>\n",
       "      <th>Date</th>\n",
       "      <th></th>\n",
       "      <th></th>\n",
       "      <th></th>\n",
       "      <th></th>\n",
       "      <th></th>\n",
       "      <th></th>\n",
       "      <th></th>\n",
       "    </tr>\n",
       "  </thead>\n",
       "  <tbody>\n",
       "    <tr>\n",
       "      <th>ZHDB_0304_6_20.txt</th>\n",
       "      <td>0.022915</td>\n",
       "      <td>0.289135</td>\n",
       "      <td>0.208805</td>\n",
       "      <td>0.177909</td>\n",
       "      <td>0.126674</td>\n",
       "      <td>0.093460</td>\n",
       "      <td>0.081102</td>\n",
       "    </tr>\n",
       "    <tr>\n",
       "      <th>ZHDB_0401_6_20.txt</th>\n",
       "      <td>0.004032</td>\n",
       "      <td>0.141129</td>\n",
       "      <td>0.288306</td>\n",
       "      <td>0.175403</td>\n",
       "      <td>0.161290</td>\n",
       "      <td>0.088710</td>\n",
       "      <td>0.141129</td>\n",
       "    </tr>\n",
       "    <tr>\n",
       "      <th>ZHDB_0506_6_20.txt</th>\n",
       "      <td>0.042915</td>\n",
       "      <td>0.208907</td>\n",
       "      <td>0.230769</td>\n",
       "      <td>0.173279</td>\n",
       "      <td>0.131174</td>\n",
       "      <td>0.103644</td>\n",
       "      <td>0.109312</td>\n",
       "    </tr>\n",
       "  </tbody>\n",
       "</table>\n",
       "</div>"
      ],
      "text/plain": [
       "                      d<=0.5  0.5<d<=1  1<d<=1.5  1.5<d<=2  2<d<=2.5  \\\n",
       "Date                                                                   \n",
       "ZHDB_0304_6_20.txt  0.022915  0.289135  0.208805  0.177909  0.126674   \n",
       "ZHDB_0401_6_20.txt  0.004032  0.141129  0.288306  0.175403  0.161290   \n",
       "ZHDB_0506_6_20.txt  0.042915  0.208907  0.230769  0.173279  0.131174   \n",
       "\n",
       "                    2.5<d<=3       3<d  \n",
       "Date                                    \n",
       "ZHDB_0304_6_20.txt  0.093460  0.081102  \n",
       "ZHDB_0401_6_20.txt  0.088710  0.141129  \n",
       "ZHDB_0506_6_20.txt  0.103644  0.109312  "
      ]
     },
     "execution_count": 18,
     "metadata": {},
     "output_type": "execute_result"
    }
   ],
   "source": [
    "heatmapDfRelatvie.index = heatmapDfRelatvie[\"Date\"]\n",
    "heatmapDfRelatvie = heatmapDfRelatvie.drop(\"Date\", axis = 1)\n",
    "heatmapDfRelatvie"
   ]
  },
  {
   "cell_type": "code",
   "execution_count": 19,
   "metadata": {
    "scrolled": true
   },
   "outputs": [
    {
     "data": {
      "text/html": [
       "<div>\n",
       "<style scoped>\n",
       "    .dataframe tbody tr th:only-of-type {\n",
       "        vertical-align: middle;\n",
       "    }\n",
       "\n",
       "    .dataframe tbody tr th {\n",
       "        vertical-align: top;\n",
       "    }\n",
       "\n",
       "    .dataframe thead th {\n",
       "        text-align: right;\n",
       "    }\n",
       "</style>\n",
       "<table border=\"1\" class=\"dataframe\">\n",
       "  <thead>\n",
       "    <tr style=\"text-align: right;\">\n",
       "      <th></th>\n",
       "      <th>04.03.2020</th>\n",
       "      <th>01.04.2020</th>\n",
       "      <th>06.05.2020</th>\n",
       "    </tr>\n",
       "  </thead>\n",
       "  <tbody>\n",
       "    <tr>\n",
       "      <th>d&lt;=0.5</th>\n",
       "      <td>0.022915</td>\n",
       "      <td>0.004032</td>\n",
       "      <td>0.042915</td>\n",
       "    </tr>\n",
       "    <tr>\n",
       "      <th>0.5&lt;d&lt;=1</th>\n",
       "      <td>0.289135</td>\n",
       "      <td>0.141129</td>\n",
       "      <td>0.208907</td>\n",
       "    </tr>\n",
       "    <tr>\n",
       "      <th>1&lt;d&lt;=1.5</th>\n",
       "      <td>0.208805</td>\n",
       "      <td>0.288306</td>\n",
       "      <td>0.230769</td>\n",
       "    </tr>\n",
       "    <tr>\n",
       "      <th>1.5&lt;d&lt;=2</th>\n",
       "      <td>0.177909</td>\n",
       "      <td>0.175403</td>\n",
       "      <td>0.173279</td>\n",
       "    </tr>\n",
       "    <tr>\n",
       "      <th>2&lt;d&lt;=2.5</th>\n",
       "      <td>0.126674</td>\n",
       "      <td>0.161290</td>\n",
       "      <td>0.131174</td>\n",
       "    </tr>\n",
       "    <tr>\n",
       "      <th>2.5&lt;d&lt;=3</th>\n",
       "      <td>0.093460</td>\n",
       "      <td>0.088710</td>\n",
       "      <td>0.103644</td>\n",
       "    </tr>\n",
       "    <tr>\n",
       "      <th>3&lt;d</th>\n",
       "      <td>0.081102</td>\n",
       "      <td>0.141129</td>\n",
       "      <td>0.109312</td>\n",
       "    </tr>\n",
       "  </tbody>\n",
       "</table>\n",
       "</div>"
      ],
      "text/plain": [
       "          04.03.2020  01.04.2020  06.05.2020\n",
       "d<=0.5      0.022915    0.004032    0.042915\n",
       "0.5<d<=1    0.289135    0.141129    0.208907\n",
       "1<d<=1.5    0.208805    0.288306    0.230769\n",
       "1.5<d<=2    0.177909    0.175403    0.173279\n",
       "2<d<=2.5    0.126674    0.161290    0.131174\n",
       "2.5<d<=3    0.093460    0.088710    0.103644\n",
       "3<d         0.081102    0.141129    0.109312"
      ]
     },
     "execution_count": 19,
     "metadata": {},
     "output_type": "execute_result"
    }
   ],
   "source": [
    "heatmapDfRelatvieSwap = heatmapDfRelatvie.transpose()\n",
    "heatmapDfRelatvieSwap.columns = [\"04.03.2020\", \"01.04.2020\", \"06.05.2020\"]\n",
    "heatmapDfRelatvieSwap"
   ]
  },
  {
   "cell_type": "code",
   "execution_count": 20,
   "metadata": {},
   "outputs": [],
   "source": [
    "for date in heatmapDfRelatvieSwap.columns:\n",
    "    heatmapDfRelatvieSwap[date] = heatmapDfRelatvieSwap[date] * 100"
   ]
  },
  {
   "cell_type": "code",
   "execution_count": 21,
   "metadata": {},
   "outputs": [],
   "source": [
    "import matplotlib as mlp\n",
    "plt.rcParams[\"font.family\"] = \"Microsoft Yi Baiti\"\n",
    "mlp.rc('font',family=\"Microsoft Yi Baiti\")"
   ]
  },
  {
   "cell_type": "code",
   "execution_count": 22,
   "metadata": {},
   "outputs": [
    {
     "data": {
      "image/png": "[encoded data removed]",
      "text/plain": [
       "<Figure size 432x288 with 1 Axes>"
      ]
     },
     "metadata": {},
     "output_type": "display_data"
    }
   ],
   "source": [
    "sb.set()\n",
    "sb.lineplot(data = heatmapDfRelatvieSwap, markers = [\"o\", \"o\", \"o\", \"o\"], palette = \"bone\", sort = False, dashes = False)\n",
    "plt.xticks(fontsize = 15, fontname = \"Microsoft Yi Baiti\", rotation = 25)\n",
    "plt.xlabel(\"Abstandsintervalle [m]\", fontsize = 18, fontname = \"Microsoft Yi Baiti\")\n",
    "plt.ylabel(\"Relative Häufigkeit [%]\", fontsize = 18, fontname = \"Microsoft Yi Baiti\")\n",
    "plt.yticks(fontsize = 15, fontname = \"Microsoft Yi Baiti\")\n",
    "plt.title(\"Abstandsverteilung innerhalb Einstiegsbereich\", fontsize = 20,fontname=\"Microsoft Yi Baiti\")\n",
    "plt.legend(facecolor = \"white\", prop={'family':\"Microsoft Yi Baiti\", 'size':13})\n",
    "plt.tight_layout()\n",
    "plt.savefig(r\"Abstandsverteilung\\Abstandsverteilung in Einstiegsbereich\", dpi = 200)"
   ]
  }
 ],
 "metadata": {
  "kernelspec": {
   "display_name": "Python 3",
   "language": "python",
   "name": "python3"
  },
  "language_info": {
   "codemirror_mode": {
    "name": "ipython",
    "version": 3
   },
   "file_extension": ".py",
   "mimetype": "text/x-python",
   "name": "python",
   "nbconvert_exporter": "python",
   "pygments_lexer": "ipython3",
   "version": "3.8.3"
  }
 },
 "nbformat": 4,
 "nbformat_minor": 4
}
