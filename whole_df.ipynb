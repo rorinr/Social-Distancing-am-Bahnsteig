{
 "cells": [
  {
   "cell_type": "code",
   "execution_count": 1,
   "metadata": {},
   "outputs": [],
   "source": [
    "import pandas as pd\n",
    "import matplotlib.pyplot as plt\n",
    "import os\n",
    "pd.set_option('display.max_rows', 5000)\n",
    "import numpy as np\n",
    "import statistics\n",
    "import itertools\n",
    "import math\n",
    "import numpy\n",
    "import statistics\n",
    "import seaborn as sbs"
   ]
  },
  {
   "cell_type": "code",
   "execution_count": 9,
   "metadata": {},
   "outputs": [],
   "source": [
    "def obereKante(x): #Um Einsteiger zu definieren\n",
    "    ObereKante = 0.009*x+4.267\n",
    "    return(ObereKante)\n",
    "\n",
    "def obereKante_flaeche(x): #Um Einstiegsfläche zu definieren\n",
    "    ObereKante = 0.009*x+3.55\n",
    "    return(ObereKante)\n",
    "\n",
    "def untereKante(x): #Um Einsteiger zu definieren\n",
    "    UntereKante = 0.015*x+0.434\n",
    "    return(UntereKante)\n",
    "\n",
    "def untereKante_flaeche(x): #Um Einsteiger zu definieren\n",
    "    UntereKante = 0.015*x+1.151\n",
    "    return(UntereKante)\n",
    "\n",
    "def leftBorder(x): #Definiert linken Rand der Einstiegsfläche\n",
    "    leftBorder = x-2.5\n",
    "    return(leftBorder)\n",
    "\n",
    "def rightBorder(x): #Definiert rechten Rand der Einstiegsfläche\n",
    "    rightBorder = x+2.5\n",
    "    return(rightBorder)\n",
    "\n",
    "def bottomBorder(x): #Redundant zu Einstiegsflächenfunktion\n",
    "    bottomBorder = obereKante_flaeche(x)\n",
    "    return(bottomBorder)\n",
    "\n",
    "def upperBorder(x): #Redundant zu Einstiegsflächenfunktion\n",
    "    upperBorder = untereKante_flaeche(x)\n",
    "    return(upperBorder)\n",
    "\n",
    "def plotBahnsteig():\n",
    "    geo = pd.read_csv( \"../Daten ZHDB/geo_ZHDB.txt\", skiprows = 2, sep = \" \", names = [\"x\", \"y\", \"obj\"])\n",
    "    for obj in geo[\"obj\"].unique():\n",
    "        plt.plot(geo.loc[geo[\"obj\"] == obj][\"x\"], geo.loc[geo[\"obj\"] == obj][\"y\"], color = \"black\", linewidth = 0.75)\n",
    "        plt.subplots_adjust(left=0.1, right=0.9, top=0.4, bottom=0.1)\n",
    "        plt.axis(\"equal\")\n",
    "        \n",
    "def getDistance(x1, x2, y1, y2):\n",
    "    result = math.sqrt((x2 -x1)**2 + (y2 - y1)**2)\n",
    "    return(result)"
   ]
  },
  {
   "cell_type": "code",
   "execution_count": 16,
   "metadata": {},
   "outputs": [
    {
     "data": {
      "text/plain": [
       "[<matplotlib.lines.Line2D at 0x1905b990ee0>]"
      ]
     },
     "execution_count": 16,
     "metadata": {},
     "output_type": "execute_result"
    },
    {
     "data": {
      "image/png": "[encoded data removed]",
      "text/plain": [
       "<Figure size 432x288 with 1 Axes>"
      ]
     },
     "metadata": {
      "needs_background": "light"
     },
     "output_type": "display_data"
    }
   ],
   "source": [
    "plotBahnsteig()\n",
    "plt.plot([-40, 0], [untereKante(-40), untereKante(0)])\n",
    "plt.plot([-40, 0], [upperBorder(-40), upperBorder(0)])"
   ]
  },
  {
   "cell_type": "code",
   "execution_count": 14,
   "metadata": {
    "scrolled": true
   },
   "outputs": [
    {
     "data": {
      "text/plain": [
       "[<matplotlib.lines.Line2D at 0x1905b707d00>]"
      ]
     },
     "execution_count": 14,
     "metadata": {},
     "output_type": "execute_result"
    },
    {
     "data": {
      "image/png": "[encoded data removed]",
      "text/plain": [
       "<Figure size 432x288 with 1 Axes>"
      ]
     },
     "metadata": {
      "needs_background": "light"
     },
     "output_type": "display_data"
    }
   ],
   "source": [
    "# #Bereich visualisieren, der angibt, wann wir eine Person als Einsteiger definieren\n",
    "# plotBahnsteig()\n",
    "# xValues = [-42, 2]\n",
    "# yValues = [obereKante(-42), obereKante(2)]\n",
    "# xxx = [untereKante(-42), untereKante(2)]\n",
    "# plt.plot(xValues, yValues)\n",
    "# plt.plot(xValues, xxx)\n",
    "# # plt.plot(xValues, [obereKante_flaeche(-45), obereKante_flaeche(4)])\n",
    "# # plt.plot(xValues, [untereKante_flaeche(-45), untereKante_flaeche(4)])\n",
    "# plt.plot([1.75, 1.75], [-3, 7])\n",
    "# plt.plot([-42.25, -42.25], [-3, 7])"
   ]
  },
  {
   "cell_type": "code",
   "execution_count": 15,
   "metadata": {},
   "outputs": [
    {
     "data": {
      "image/png": "[encoded data removed]",
      "text/plain": [
       "<Figure size 432x288 with 1 Axes>"
      ]
     },
     "metadata": {
      "needs_background": "light"
     },
     "output_type": "display_data"
    }
   ],
   "source": [
    "# #Beispiel für eine Einstiegsfläche bei Traubendefinition\n",
    "# plotBahnsteig()\n",
    "# xValues = [-30, -25]\n",
    "# plt.plot([-25, -25], [3.2, 5], color = \"red\")\n",
    "# plt.plot([-30, -30], [3.2, 5], color = \"red\")\n",
    "# plt.plot(xValues, [obereKante_flaeche(-30), obereKante_flaeche(-25)], color = \"red\")\n",
    "# # plt.plot(xValues, [untereKante_flaeche(-45), untereKante_flaeche(4)])\n",
    "# plt.savefig(\"Beispiel einer Wartefläche\", bbox_inches='tight')"
   ]
  },
  {
   "cell_type": "code",
   "execution_count": 5,
   "metadata": {},
   "outputs": [],
   "source": [
    "def get_uppers(filename, trauben_size, toleranz_sekunden = 5):\n",
    "    #Daten einlesen\n",
    "    data = pd.read_csv(\"../Daten ZHDB/\" + filename, skiprows = 4, sep = \"\\t\", names = [\"id\", \"frame\", \"x/m\", \"y/m\", \"h/m\"])\n",
    "\n",
    "    #Sterbeframe und Oberen auswählen\n",
    "    sample = data.groupby(\"id\").last()\n",
    "    sample[\"YMin\"] = list(map(obereKante, sample[\"x/m\"]))\n",
    "    sample[\"yes\"] = sample[\"y/m\"] > sample[\"YMin\"]\n",
    "    sample = sample.loc[sample[\"yes\"]]\n",
    "    sample = sample.loc[(sample[\"x/m\"] <= 1.75) & (sample[\"x/m\"] >= -42.25)]\n",
    "    uppers = sample\n",
    "\n",
    "    #HIER WERDEN DIE GRUPPEN FÜR DIE ZEITLICHEN ABSTÄNDE DEFINIERT!\n",
    "    uppers[\"id\"] = uppers.index\n",
    "    uppers = uppers.sort_values([\"frame\", \"x/m\"])\n",
    "    uppers[\"diff\"] = uppers.frame.diff()\n",
    "    uppers = uppers.fillna(0)\n",
    "    group = 1\n",
    "    groups = []\n",
    "    #Es werden gruppen definiert wenn Differenz zur vorherigen person zwischen 0-4 sekunden\n",
    "    for i in uppers[\"diff\"]:\n",
    "        if i < 5:\n",
    "            groups.append(group)\n",
    "        else:\n",
    "            group += 1\n",
    "            groups.append(group)\n",
    "    uppers[\"group\"] = groups\n",
    "    df = pd.DataFrame()\n",
    "    \n",
    "    #Gruppe bezügliche des x abstands definieren\n",
    "    uppers[\"id\"] = uppers.index\n",
    "    for groups in uppers[\"group\"].unique():\n",
    "        select = uppers.loc[uppers[\"group\"] == groups]\n",
    "        select = select.sort_values(\"x/m\")\n",
    "        select[\"XAbstand\"] = select[\"x/m\"].diff()\n",
    "        select[\"XAbstand\"] = select[\"XAbstand\"].fillna(0)\n",
    "        xGroup = []\n",
    "        xgrouper = 1\n",
    "        for i in select[\"XAbstand\"]:\n",
    "            if i < 2.5:\n",
    "                xGroup.append(xgrouper)\n",
    "            else:\n",
    "                xgrouper += 1\n",
    "                xGroup.append(xgrouper)\n",
    "        select[\"XGroup\"] = xGroup\n",
    "        df = df.append(select)\n",
    "    df = df.sort_values([\"group\", \"XGroup\", \"frame\"])\n",
    "    #999 als Erkennungszeichen für Oberes Gleis\n",
    "    df[\"GroupID\"] = list(df.group.astype(str) + df.XGroup.astype(str) + \"999\")\n",
    "    \n",
    "    #Definiere eine Series in der alle Ids vorkommen, die in einer Traube vorkommen\n",
    "    selectTrauben = df[\"GroupID\"].value_counts() == trauben_size\n",
    "    selectTrauben = pd.DataFrame(selectTrauben)\n",
    "    selectTrauben[\"ID\"] = selectTrauben.index\n",
    "    selectTrauben = selectTrauben.loc[selectTrauben[\"GroupID\"] == True, [\"ID\"]]\n",
    "    selectTrauben = selectTrauben[\"ID\"]\n",
    "    \n",
    "    #Wähle nur Wartetrauben die in ausgewählten Trauben vorkommen und erstelle Spalte für Position der Tür\n",
    "    df = df.loc[df[\"GroupID\"].isin(selectTrauben)]\n",
    "    doorLocation = df.groupby(\"GroupID\")[\"x/m\"].mean()\n",
    "    doorLocation = pd.DataFrame(doorLocation)\n",
    "    doorLocation[\"GroupID\"] = doorLocation.index\n",
    "    df.index.name = None\n",
    "    doorLocation.index.name = None\n",
    "    df = df.merge(doorLocation, on = \"GroupID\")\n",
    "    df[\"doorPosition\"] = df[\"x/m_y\"]\n",
    "    df[\"Gleis\"] = \"oben\"\n",
    "    \n",
    "    #Door ist minimal über gleiskante, damit alle Personen in fläche sind\n",
    "    df[\"doorPositionY\"] = df[\"doorPosition\"].apply(obereKante)\n",
    "    df[\"doorPositionY\"] = df[\"doorPositionY\"]+1.8\n",
    "\n",
    "    #Fläche zu jeder ID bzw. Wartetraube: leftBorder, rightBorder, bottomBorder\n",
    "    df[\"leftBorder\"] = df[\"doorPosition\"].apply(leftBorder)\n",
    "    df[\"rightBorder\"] = df[\"doorPosition\"].apply(rightBorder)\n",
    "    df[\"bottomBorder\"] = df[\"doorPosition\"].apply(bottomBorder)\n",
    "    \n",
    "    #Spalte, die angibt wann Einstiegsvorgang beginnt = Letzter Frame der ersten eingestiegenen Person\n",
    "    beginnEinstieg = []\n",
    "    for gruppe in df[\"GroupID\"].unique():\n",
    "        einstiegDf = df.loc[df[\"GroupID\"] == gruppe]\n",
    "        einstiegsbeginn = einstiegDf[\"frame\"].min()\n",
    "        for i in einstiegDf[\"frame\"]:\n",
    "            beginnEinstieg.append(einstiegsbeginn)\n",
    "    df[\"Einstiegsbeginn\"] = beginnEinstieg\n",
    "    \n",
    "    #Datensatz definieren, in dem alle Frames von den IDs aus 'df' sind. Diesen dann df.Borders zuordnen\n",
    "    selectID = data.loc[data[\"id\"].isin(df[\"id\"])]\n",
    "    selectID = selectID.merge(df, on = [\"id\"])\n",
    "    selectID = selectID.drop([\"frame_y\", \"yes\", \"diff\", \"x/m_x\", \"YMin\", \"h/m_y\", \"y/m_y\", \"XAbstand\", \"h/m_x\"], axis = 1)\n",
    "    \n",
    "    #Columns if x/m in Borders\n",
    "    selectID[\"inBorder\"] = (selectID[\"x/m\"] > selectID[\"leftBorder\"]) & (selectID[\"x/m\"] < selectID[\"rightBorder\"]) & (selectID[\"y/m_x\"] > selectID[\"bottomBorder\"])\n",
    "\n",
    "    #Die Zeilen aus selectID löschen, die länger als 5 Sekunden vor dem Einstiegsvorgang sind\n",
    "    selectID[\"EinstiegsbeginnToleranz\"] = selectID[\"Einstiegsbeginn\"] - toleranz_sekunden\n",
    "    selectID = selectID.loc[selectID[\"frame_x\"] >= selectID[\"EinstiegsbeginnToleranz\"]]\n",
    "    \n",
    "    #Zeile die angibt, wie viele Leute in Fläche\n",
    "    borderDf = pd.DataFrame(columns = [\"GroupID\", \"frame_x\", \"numberInArea\", \"numberAll\"])\n",
    "    for gruppe in selectID[\"GroupID\"].unique():\n",
    "        selectGroup = selectID.loc[selectID[\"GroupID\"] == gruppe]\n",
    "        for frame in selectGroup[\"frame_x\"].unique():\n",
    "            selectFrame = selectGroup[selectGroup[\"frame_x\"] == frame]\n",
    "            numberInArea = selectFrame.loc[selectFrame[\"inBorder\"] == True, \"inBorder\"].shape[0]\n",
    "            numberAll = selectFrame[\"inBorder\"].shape[0]\n",
    "            df2 = pd.DataFrame([[gruppe, frame, numberInArea, numberAll]], columns = [\"GroupID\", \"frame_x\", \"numberInArea\", \"numberAll\"])\n",
    "            borderDf = borderDf.append(df2)\n",
    "            \n",
    "    #Endgültiger Df der alle Zeilen von ausgewählten Ids bzw. gruppen enthält\n",
    "    selectID = selectID.merge(borderDf, on = [\"GroupID\", \"frame_x\"])    \n",
    "    selectID = selectID.drop([\"group\", \"XGroup\", \"x/m_y\"], axis = 1)\n",
    "    return selectID"
   ]
  },
  {
   "cell_type": "code",
   "execution_count": 6,
   "metadata": {},
   "outputs": [],
   "source": [
    "def get_downers(filename, trauben_size, toleranz_sekunden = 5):\n",
    "    #Daten einlesen\n",
    "    data = pd.read_csv(\"../Daten ZHDB/\" + filename, skiprows = 4, sep = \"\\t\", names = [\"id\", \"frame\", \"x/m\", \"y/m\", \"h/m\"])\n",
    "    #print(filename)\n",
    "    #Unteren auswählen\n",
    "    sample = data.groupby(\"id\").last()\n",
    "    print(filename)\n",
    "    sample[\"YMin\"] = list(map(untereKante, sample[\"x/m\"]))\n",
    "    sample[\"yes\"] = sample[\"y/m\"] < sample[\"YMin\"]\n",
    "    sample = sample.loc[sample[\"yes\"]]\n",
    "    sample = sample.loc[(sample[\"x/m\"] <= 1.75) & (sample[\"x/m\"] >= -42.25)]\n",
    "    downers = sample\n",
    "\n",
    "    #HIER WERDEN DIE GRUPPEN FÜR DIE ZEITLICHEN ABSTÄNDE DEFINIERT!\n",
    "\n",
    "    downers[\"id\"] = downers.index\n",
    "    downers = downers.sort_values([\"frame\", \"x/m\"])\n",
    "    downers[\"diff\"] = downers.frame.diff()\n",
    "    downers = downers.fillna(0)\n",
    "    group = 1\n",
    "    groups = []\n",
    "    #Es werden gruppen definiert wenn Differenz zur vorherigen person zwischen 0-4 sekunden\n",
    "    for i in downers[\"diff\"]:\n",
    "        if i < 5:\n",
    "            groups.append(group)\n",
    "        else:\n",
    "            group += 1\n",
    "            groups.append(group)\n",
    "    downers[\"group\"] = groups\n",
    "    df = pd.DataFrame()\n",
    "\n",
    "    #Gruppe bezügliche des x abstands definieren\n",
    "    downers[\"id\"] = downers.index\n",
    "    for groups in downers[\"group\"].unique():\n",
    "        select = downers.loc[downers[\"group\"] == groups]\n",
    "        select = select.sort_values(\"x/m\")\n",
    "        select[\"XAbstand\"] = select[\"x/m\"].diff()\n",
    "        select[\"XAbstand\"] = select[\"XAbstand\"].fillna(0)\n",
    "        xGroup = []\n",
    "        xgrouper = 1\n",
    "        for i in select[\"XAbstand\"]:\n",
    "            if i < 2.5:\n",
    "                xGroup.append(xgrouper)\n",
    "            else:\n",
    "                xgrouper += 1\n",
    "                xGroup.append(xgrouper)\n",
    "        select[\"XGroup\"] = xGroup\n",
    "        df = df.append(select)\n",
    "    df = df.sort_values([\"group\", \"XGroup\", \"frame\"])\n",
    "    df[\"GroupID\"] = list(df.group.astype(str) + df.XGroup.astype(str) + \"111\")  #Erkennungszeichen für untere Einsteiger\n",
    "    \n",
    "    selectTrauben = df[\"GroupID\"].value_counts() == trauben_size\n",
    "    selectTrauben = pd.DataFrame(selectTrauben)\n",
    "    selectTrauben[\"ID\"] = selectTrauben.index\n",
    "    selectTrauben = selectTrauben.loc[selectTrauben[\"GroupID\"] == True, [\"ID\"]]\n",
    "    selectTrauben = selectTrauben[\"ID\"]\n",
    "    \n",
    "    df = df.loc[df[\"GroupID\"].isin(selectTrauben)]\n",
    "    doorLocation = df.groupby(\"GroupID\")[\"x/m\"].mean()\n",
    "    doorLocation = pd.DataFrame(doorLocation)\n",
    "    doorLocation[\"GroupID\"] = doorLocation.index\n",
    "    df.index.name = None\n",
    "    doorLocation.index.name = None\n",
    "    df = df.merge(doorLocation, on = \"GroupID\")\n",
    "    df[\"doorPosition\"] = df[\"x/m_y\"]\n",
    "    df[\"Gleis\"] = \"unten\"\n",
    "\n",
    "    #Door ist minimal unter gleiskante, damit alle Personen in fläche sind\n",
    "    df[\"doorPositionY\"] = df[\"doorPosition\"].apply(untereKante)\n",
    "    df[\"doorPositionY\"] = df[\"doorPositionY\"]-1.9\n",
    "    \n",
    "    #Fläche zu jeder ID bzw. Wartetraube: leftBorder, rightBorder, upperBorder\n",
    "    df[\"leftBorder\"] = df[\"doorPosition\"].apply(leftBorder)\n",
    "    df[\"rightBorder\"] = df[\"doorPosition\"].apply(rightBorder)\n",
    "    df[\"upperBorder\"] = df[\"doorPosition\"].apply(upperBorder)\n",
    "    \n",
    "    #Spalte, die angibt wann Einstiegsvorgang beginnt = Letzter Frame der ersten eingestiegenen Person\n",
    "    beginnEinstieg = []\n",
    "    for gruppe in df[\"GroupID\"].unique():\n",
    "        einstiegDf = df.loc[df[\"GroupID\"] == gruppe]\n",
    "        einstiegsbeginn = einstiegDf[\"frame\"].min()\n",
    "        for i in einstiegDf[\"frame\"]:\n",
    "            beginnEinstieg.append(einstiegsbeginn)\n",
    "    df[\"Einstiegsbeginn\"] = beginnEinstieg\n",
    "    \n",
    "    #Datensatz definieren, in dem alle Frames von den IDs aus 'df' sind. Diesen dann df.Borders zuordnen\n",
    "    selectID = data.loc[data[\"id\"].isin(df[\"id\"])]\n",
    "    selectID = selectID.merge(df, on = [\"id\"])\n",
    "    selectID = selectID.drop([\"frame_y\", \"yes\", \"diff\", \"x/m_x\", \"YMin\", \"h/m_y\", \"y/m_y\", \"XAbstand\", \"h/m_x\"], axis = 1)\n",
    "    \n",
    "    #Columns if x/m in Borders\n",
    "    selectID[\"inBorder\"] = (selectID[\"x/m\"] > selectID[\"leftBorder\"]) & (selectID[\"x/m\"] < selectID[\"rightBorder\"]) & (selectID[\"y/m_x\"] < selectID[\"upperBorder\"])\n",
    "    #Die Zeilen aus selectID löschen, die länger als 5 Sekunden vor dem Einstiegsvorgang sind\n",
    "    selectID[\"EinstiegsbeginnToleranz\"] = selectID[\"Einstiegsbeginn\"] - toleranz_sekunden\n",
    "    selectID = selectID.loc[selectID[\"frame_x\"] >= selectID[\"EinstiegsbeginnToleranz\"]]\n",
    "    \n",
    "    #Zeile die angibt, wie viele Leute in Fläche\n",
    "    borderDf = pd.DataFrame(columns = [\"GroupID\", \"frame_x\", \"numberInArea\", \"numberAll\"])\n",
    "    for gruppe in selectID[\"GroupID\"].unique():\n",
    "        selectGroup = selectID.loc[selectID[\"GroupID\"] == gruppe]\n",
    "        for frame in selectGroup[\"frame_x\"].unique():\n",
    "            selectFrame = selectGroup[selectGroup[\"frame_x\"] == frame]\n",
    "            numberInArea = selectFrame.loc[selectFrame[\"inBorder\"] == True, \"inBorder\"].shape[0]\n",
    "            numberAll = selectFrame[\"inBorder\"].shape[0]\n",
    "            df2 = pd.DataFrame([[gruppe, frame, numberInArea, numberAll]], columns = [\"GroupID\", \"frame_x\", \"numberInArea\", \"numberAll\"])\n",
    "            borderDf = borderDf.append(df2)\n",
    "\n",
    "    selectID = selectID.merge(borderDf, on = [\"GroupID\", \"frame_x\"])\n",
    "    selectID = selectID.drop([\"group\", \"XGroup\", \"x/m_y\"], axis = 1)\n",
    "    return(selectID)"
   ]
  },
  {
   "cell_type": "code",
   "execution_count": 7,
   "metadata": {},
   "outputs": [],
   "source": [
    "def get_whole_df(filename, trauben_size, toleranz_sekunden = 5):\n",
    "    uppers = get_uppers(filename, trauben_size, toleranz_sekunden)\n",
    "    downers = get_downers(filename, trauben_size, toleranz_sekunden)\n",
    "    df = downers.append(uppers)\n",
    "    return(df)"
   ]
  },
  {
   "cell_type": "code",
   "execution_count": 8,
   "metadata": {
    "scrolled": true
   },
   "outputs": [],
   "source": [
    "# df = get_whole_df(\"ZHDB_0205_6_20.txt\", 5)"
   ]
  },
  {
   "cell_type": "code",
   "execution_count": 9,
   "metadata": {
    "scrolled": true
   },
   "outputs": [],
   "source": [
    "# df.groupby(\"Gleis\")[\"inBorder\"].value_counts()"
   ]
  },
  {
   "cell_type": "code",
   "execution_count": 10,
   "metadata": {},
   "outputs": [],
   "source": [
    "#Doppelte Frames werden auch doppel gezählt, so soll es sein!\n",
    "def get_average_person_number(filename, frame_list):\n",
    "    personen_auf_bahnsteig = []\n",
    "    data = pd.read_csv(\"../Daten ZHDB/\" + filename, skiprows = 4, sep = \"\\t\", names = [\"id\", \"frame\", \"x/m\", \"y/m\", \"h/m\"])\n",
    "    for frame in frame_list:\n",
    "        df = data.loc[data[\"frame\"] == frame]\n",
    "        personen_auf_bahnsteig.append(len(df[\"frame\"]))\n",
    "#     print(ave)\n",
    "    return(statistics.mean(personen_auf_bahnsteig))"
   ]
  },
  {
   "cell_type": "code",
   "execution_count": 11,
   "metadata": {},
   "outputs": [],
   "source": [
    "def get_all_distances(selectID, inBorder = True):\n",
    "    borderDistance = []\n",
    "    if inBorder:\n",
    "        selectIDBorder = selectID.loc[selectID[\"inBorder\"] == True]\n",
    "    else:\n",
    "        selectIDBorder = selectID\n",
    "        \n",
    "    for gruppe in selectIDBorder[\"GroupID\"].unique():\n",
    "        selectGroup = selectIDBorder.loc[selectIDBorder[\"GroupID\"] == gruppe, [\"id\", \"frame_x\", \"x/m\", \"y/m_x\"]]\n",
    "        for frame in selectGroup[\"frame_x\"].unique():\n",
    "            selectFrame = selectGroup.loc[selectGroup[\"frame_x\"] == frame]\n",
    "            for contact in itertools.combinations(selectFrame[\"id\"], 2):\n",
    "                firstPosition = selectFrame.loc[selectFrame[\"id\"] == contact[0], [\"x/m\", \"y/m_x\"]]\n",
    "                secondPosition = selectFrame.loc[selectFrame[\"id\"] == contact[1], [\"x/m\", \"y/m_x\"]]\n",
    "                distanz = getDistance(x1 = float(firstPosition[\"x/m\"]), x2 = float(secondPosition[\"x/m\"]), y1 = float(firstPosition[\"y/m_x\"]), y2 = float(secondPosition[\"y/m_x\"]))\n",
    "                borderDistance.append(distanz)\n",
    "    return borderDistance"
   ]
  }
 ],
 "metadata": {
  "kernelspec": {
   "display_name": "Python 3",
   "language": "python",
   "name": "python3"
  },
  "language_info": {
   "codemirror_mode": {
    "name": "ipython",
    "version": 3
   },
   "file_extension": ".py",
   "mimetype": "text/x-python",
   "name": "python",
   "nbconvert_exporter": "python",
   "pygments_lexer": "ipython3",
   "version": "3.8.3"
  }
 },
 "nbformat": 4,
 "nbformat_minor": 4
}
