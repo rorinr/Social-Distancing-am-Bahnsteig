{
 "cells": [
  {
   "cell_type": "code",
   "execution_count": 4,
   "metadata": {},
   "outputs": [],
   "source": [
    "from ipynb.fs.full.whole_df import get_uppers, get_downers, get_whole_df, get_average_person_number,get_all_distances\n",
    "import os\n",
    "import numpy as np\n",
    "import itertools\n",
    "import pandas as pd\n",
    "import statistics\n",
    "import math\n",
    "import matplotlib as mlp\n",
    "import matplotlib.pyplot as plt\n",
    "import seaborn as sb\n",
    "plt.rcParams[\"font.family\"] = \"Microsoft Yi Baiti\"\n",
    "mlp.rc('font',family=\"Microsoft Yi Baiti\")"
   ]
  },
  {
   "cell_type": "code",
   "execution_count": 17,
   "metadata": {},
   "outputs": [],
   "source": [
    "for filename in os.listdir(r\"C:\\Users\\robin\\Documents\\Bachelorarbeit\\Daten ZHDB\"):\n",
    "    if \"geo\" not in filename:\n",
    "        df = pd.read_csv(\"../Daten ZHDB/\" + filename, skiprows = 4, sep = \"\\t\", names = [\"id\", \"frame\", \"x/m\", \"y/m\", \"h/m\"])\n",
    "        df = df.groupby(\"id\").first()\n",
    "        df = df.drop(\"h/m\", axis = 1)\n",
    "        df.to_excel(\"../Tabellen für Papa/Erste Frames jeder ID/\" + filename.replace(\".txt\", \"Firsts.xlsx\"))"
   ]
  }
 ],
 "metadata": {
  "kernelspec": {
   "display_name": "Python 3",
   "language": "python",
   "name": "python3"
  },
  "language_info": {
   "codemirror_mode": {
    "name": "ipython",
    "version": 3
   },
   "file_extension": ".py",
   "mimetype": "text/x-python",
   "name": "python",
   "nbconvert_exporter": "python",
   "pygments_lexer": "ipython3",
   "version": "3.8.3"
  }
 },
 "nbformat": 4,
 "nbformat_minor": 4
}
