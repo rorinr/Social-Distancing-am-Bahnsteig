{
 "cells": [
  {
   "cell_type": "code",
   "execution_count": 4,
   "metadata": {},
   "outputs": [],
   "source": [
    "from ipynb.fs.full.whole_df import get_uppers, get_downers, get_whole_df, get_average_person_number\n",
    "import os\n",
    "import numpy as np\n",
    "import itertools\n",
    "import pandas as pd\n",
    "import statistics\n",
    "import math\n",
    "import matplotlib.pyplot as plt\n",
    "import seaborn as sb\n",
    "from scipy.stats import linregress\n",
    "import matplotlib as mlp"
   ]
  },
  {
   "cell_type": "code",
   "execution_count": 5,
   "metadata": {},
   "outputs": [],
   "source": [
    "def getDistance(x1, x2, y1, y2):\n",
    "    result = math.sqrt((x2 -x1)**2 + (y2 - y1)**2)\n",
    "    return(result)"
   ]
  },
  {
   "cell_type": "code",
   "execution_count": 6,
   "metadata": {
    "scrolled": true
   },
   "outputs": [
    {
     "name": "stdout",
     "output_type": "stream",
     "text": [
      "ZHDB_0205_6_20.txt\n",
      "46.432613768961495\n",
      "ZHDB_0212_6_20.txt\n",
      "45.57058823529412\n",
      "ZHDB_0219_6_20.txt\n",
      "45.599382716049384\n",
      "ZHDB_0226_6_20.txt\n",
      "55.12562994960403\n",
      "ZHDB_0304_6_20.txt\n",
      "45.86071060762101\n",
      "ZHDB_0311_6_20.txt\n",
      "44.409698025551684\n",
      "ZHDB_0318_6_20.txt\n",
      "21.754222972972972\n",
      "ZHDB_0325_6_20.txt\n",
      "16.992094861660078\n",
      "ZHDB_0401_6_20.txt\n",
      "19.024193548387096\n",
      "ZHDB_0408_6_20.txt\n",
      "20.753012048192772\n",
      "ZHDB_0415_6_20.txt\n",
      "19.931972789115648\n",
      "ZHDB_0422_6_20.txt\n",
      "21.33288770053476\n",
      "ZHDB_0429_6_20.txt\n",
      "20.406189555125724\n",
      "ZHDB_0506_6_20.txt\n",
      "21.906072874493926\n",
      "ZHDB_0513_6_20.txt\n",
      "27.987854251012145\n",
      "ZHDB_0520_6_20.txt\n",
      "30.689162561576353\n",
      "ZHDB_0527_6_20.txt\n",
      "30.3602383531961\n",
      "ZHDB_0603_6_20.txt\n",
      "31.046935608999224\n",
      "ZHDB_0610_6_20.txt\n",
      "32.46953090749671\n",
      "ZHDB_0617_6_20.txt\n",
      "34.886813186813185\n",
      "ZHDB_0624_6_20.txt\n",
      "39.14108993647609\n",
      "ZHDB_0701_6_20.txt\n",
      "35.32058584214809\n",
      "ZHDB_0708_6_20.txt\n",
      "40.234026745913816\n",
      "ZHDB_0715_6_20.txt\n",
      "33.95847885137757\n",
      "ZHDB_0722_6_20.txt\n",
      "32.92405683488486\n",
      "ZHDB_0729_6_20.txt\n",
      "31.283777677361048\n",
      "ZHDB_0805_6_20.txt\n",
      "33.70041400075273\n",
      "ZHDB_0812_6_20.txt\n",
      "34.77214741318214\n",
      "ZHDB_0819_6_20.txt\n",
      "42.12785388127854\n",
      "ZHDB_0826_6_20.txt\n",
      "39.167384819356975\n"
     ]
    }
   ],
   "source": [
    "average_distance = []\n",
    "keep_distance = []\n",
    "average_number_of_persons = []\n",
    "for filename in os.listdir(r\"C:\\Users\\robin\\Documents\\Bachelorarbeit\\Daten ZHDB\"):    \n",
    "    if \"txt\" in filename and \"geo\" not in filename:\n",
    "        df = get_whole_df(filename, 5, 5)\n",
    "        selectID = df\n",
    "        #Alle Abstände berechnen die in Fläche liegen\n",
    "        borderDistance = []\n",
    "        all_frames = []\n",
    "        selectIDBorder = selectID.loc[selectID[\"inBorder\"] == True]\n",
    "        for gruppe in selectIDBorder[\"GroupID\"].unique():\n",
    "            selectGroup = selectIDBorder.loc[selectIDBorder[\"GroupID\"] == gruppe, [\"id\", \"frame_x\", \"x/m\", \"y/m_x\"]]\n",
    "            for frame in selectGroup[\"frame_x\"].unique():\n",
    "                selectFrame = selectGroup.loc[selectGroup[\"frame_x\"] == frame]\n",
    "                #plt.scatter(selectFrame[\"x/m\"], selectFrame[\"y/m_x\"])\n",
    "                #plotBahnsteig()\n",
    "                for contact in itertools.combinations(selectFrame[\"id\"], 2):\n",
    "                    all_frames.append(frame)\n",
    "                    firstPosition = selectFrame.loc[selectFrame[\"id\"] == contact[0], [\"x/m\", \"y/m_x\"]]\n",
    "                    secondPosition = selectFrame.loc[selectFrame[\"id\"] == contact[1], [\"x/m\", \"y/m_x\"]]\n",
    "                    distanz = getDistance(x1 = float(firstPosition[\"x/m\"]), x2 = float(secondPosition[\"x/m\"]), y1 = float(firstPosition[\"y/m_x\"]), y2 = float(secondPosition[\"y/m_x\"]))\n",
    "                    borderDistance.append(distanz)\n",
    "        \n",
    "        ave_bahnsteiger = get_average_person_number(filename, all_frames)\n",
    "        average_number_of_persons.append(ave_bahnsteiger)\n",
    "        print(ave_bahnsteiger)\n",
    "        ave_distance = statistics.mean(borderDistance)\n",
    "        average_distance.append(ave_distance)\n",
    "        #Anzahl an Verletzungen des Mindestabstands\n",
    "        verletzungen = len([i for i in borderDistance if i < 1.5]) / len(borderDistance)\n",
    "        eingehalten = len([i for i in borderDistance if i > 1.5]) / len(borderDistance)\n",
    "        keep_distance.append(eingehalten)    "
   ]
  },
  {
   "cell_type": "code",
   "execution_count": 7,
   "metadata": {},
   "outputs": [
    {
     "name": "stdout",
     "output_type": "stream",
     "text": [
      "-0.587928313721811\n"
     ]
    }
   ],
   "source": [
    "#Korrelation rel. Häufigkeit eingehaltenem Mindestabstand\n",
    "print(np.corrcoef(keep_distance, average_number_of_persons)[0, 1])\n",
    "#https://www.medistat.de/glossar/korrelation-assoziation/korrelationskoeffizient-nach-pearson/#:~:text=Interpretation%3A,%2C%20wenn%20r%20%3D%200%20ist.\n",
    "#pd.Series(keep_distance).corr(pd.Series(average_number_of_persons), method = \"pearson\", min_periods = 30)"
   ]
  },
  {
   "cell_type": "code",
   "execution_count": 8,
   "metadata": {},
   "outputs": [
    {
     "name": "stdout",
     "output_type": "stream",
     "text": [
      "-0.47359818306245455\n"
     ]
    }
   ],
   "source": [
    "#Korrelation durchschnitlichem Abstand\n",
    "print(np.corrcoef(average_distance, average_number_of_persons)[0, 1])"
   ]
  },
  {
   "cell_type": "code",
   "execution_count": 9,
   "metadata": {
    "scrolled": false
   },
   "outputs": [
    {
     "data": {
      "text/plain": [
       "[<matplotlib.lines.Line2D at 0x2a65d87b760>,\n",
       " <matplotlib.lines.Line2D at 0x2a65d87b790>]"
      ]
     },
     "execution_count": 9,
     "metadata": {},
     "output_type": "execute_result"
    },
    {
     "data": {
      "image/png": "[encoded data removed]",
      "text/plain": [
       "<Figure size 432x288 with 1 Axes>"
      ]
     },
     "metadata": {
      "needs_background": "light"
     },
     "output_type": "display_data"
    }
   ],
   "source": [
    "coef = np.polyfit(average_number_of_persons,average_distance,1)\n",
    "poly1d_fn = np.poly1d(coef) \n",
    "plt.plot(average_number_of_persons, average_distance, \"yo\", average_number_of_persons, poly1d_fn(average_number_of_persons))"
   ]
  },
  {
   "cell_type": "code",
   "execution_count": 10,
   "metadata": {},
   "outputs": [],
   "source": [
    "average_number_of_persons = np.array(average_number_of_persons)"
   ]
  },
  {
   "cell_type": "code",
   "execution_count": 11,
   "metadata": {
    "scrolled": true
   },
   "outputs": [
    {
     "data": {
      "text/plain": [
       "(1.4, 2.0)"
      ]
     },
     "execution_count": 11,
     "metadata": {},
     "output_type": "execute_result"
    },
    {
     "data": {
      "image/png": "[encoded data removed]",
      "text/plain": [
       "<Figure size 432x288 with 1 Axes>"
      ]
     },
     "metadata": {
      "needs_background": "light"
     },
     "output_type": "display_data"
    }
   ],
   "source": [
    "plt.plot(average_number_of_persons, average_distance, \"yo\")\n",
    "slope, intercept, r_value, p_value, std_err = linregress(average_number_of_persons,average_distance)\n",
    "plt.plot(average_number_of_persons, intercept + slope*average_number_of_persons, 'r', label='fitted line')\n",
    "plt.xlim(10, 55)\n",
    "plt.ylim(1.4, 2)"
   ]
  },
  {
   "cell_type": "code",
   "execution_count": 18,
   "metadata": {},
   "outputs": [],
   "source": [
    "plt.rcParams[\"font.family\"] = \"Microsoft Yi Baiti\"\n",
    "mlp.rc('font',family=\"Microsoft Yi Baiti\")"
   ]
  },
  {
   "cell_type": "code",
   "execution_count": 25,
   "metadata": {
    "scrolled": true
   },
   "outputs": [
    {
     "data": {
      "image/png": "[encoded data removed]",
      "text/plain": [
       "<Figure size 432x288 with 1 Axes>"
      ]
     },
     "metadata": {},
     "output_type": "display_data"
    }
   ],
   "source": [
    "sb.set()\n",
    "sb.scatterplot(average_number_of_persons, average_distance, color = \"slategrey\", label = \"Abstand/Personenanzahl pro Tag\")\n",
    "sb.lineplot(average_number_of_persons, intercept + slope*average_number_of_persons, color = \"c\", label = \"Lineare Regression\")\n",
    "plt.xlabel(\"Anzahl [n]\", fontsize = 18,fontname=\"Microsoft Yi Baiti\")\n",
    "plt.xticks(fontsize = 16,fontname=\"Microsoft Yi Baiti\")\n",
    "plt.ylabel(\"Abstand [m]\", fontsize = 18,fontname=\"Microsoft Yi Baiti\")\n",
    "plt.yticks(fontsize = 16,fontname=\"Microsoft Yi Baiti\")\n",
    "plt.title(\"Korrelation zwischen Abstand und Personenanzahl\", fontsize = 20,fontname=\"Microsoft Yi Baiti\")\n",
    "plt.legend(facecolor = \"white\", fontsize = 14, prop={'family':\"Microsoft Yi Baiti\", 'size':14})\n",
    "plt.savefig(r\"Korrelationsplots\\Korrelation 5er Traube in Einstiegsfläche\", dpi = 200)"
   ]
  },
  {
   "cell_type": "code",
   "execution_count": 14,
   "metadata": {},
   "outputs": [
    {
     "data": {
      "text/plain": [
       "(-0.4735981830624545, 0.008204068607040534)"
      ]
     },
     "execution_count": 14,
     "metadata": {},
     "output_type": "execute_result"
    }
   ],
   "source": [
    "from scipy.stats import pearsonr\n",
    "pearsonr(average_distance, average_number_of_persons)"
   ]
  }
 ],
 "metadata": {
  "kernelspec": {
   "display_name": "Python 3",
   "language": "python",
   "name": "python3"
  },
  "language_info": {
   "codemirror_mode": {
    "name": "ipython",
    "version": 3
   },
   "file_extension": ".py",
   "mimetype": "text/x-python",
   "name": "python",
   "nbconvert_exporter": "python",
   "pygments_lexer": "ipython3",
   "version": "3.8.3"
  }
 },
 "nbformat": 4,
 "nbformat_minor": 4
}
