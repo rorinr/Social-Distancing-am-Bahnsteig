{
 "cells": [
  {
   "cell_type": "code",
   "execution_count": 4,
   "metadata": {},
   "outputs": [],
   "source": [
    "from ipynb.fs.full.whole_df import get_uppers, get_downers, get_whole_df, get_average_person_number\n",
    "import os\n",
    "import numpy as np\n",
    "import itertools\n",
    "import pandas as pd\n",
    "import statistics\n",
    "import math\n",
    "import seaborn as sb\n",
    "from scipy.stats import linregress\n",
    "import matplotlib.pyplot as plt"
   ]
  },
  {
   "cell_type": "code",
   "execution_count": 5,
   "metadata": {},
   "outputs": [],
   "source": [
    "def getDistance(x1, x2, y1, y2):\n",
    "    result = math.sqrt((x2 -x1)**2 + (y2 - y1)**2)\n",
    "    return(result)"
   ]
  },
  {
   "cell_type": "code",
   "execution_count": 6,
   "metadata": {
    "scrolled": true
   },
   "outputs": [
    {
     "name": "stdout",
     "output_type": "stream",
     "text": [
      "ZHDB_0205_6_20.txt\n",
      "47.50486809045226\n",
      "ZHDB_0212_6_20.txt\n",
      "43.74564697849095\n",
      "ZHDB_0219_6_20.txt\n",
      "45.43086642599278\n",
      "ZHDB_0226_6_20.txt\n",
      "53.2890395480226\n",
      "ZHDB_0304_6_20.txt\n",
      "45.16318252730109\n",
      "ZHDB_0311_6_20.txt\n",
      "43.877912543887646\n",
      "ZHDB_0318_6_20.txt\n",
      "21.275563909774437\n",
      "ZHDB_0325_6_20.txt\n",
      "16.779141104294478\n",
      "ZHDB_0401_6_20.txt\n",
      "19.600709219858157\n",
      "ZHDB_0408_6_20.txt\n",
      "20.278022947925862\n",
      "ZHDB_0415_6_20.txt\n",
      "19.821571238348866\n",
      "ZHDB_0422_6_20.txt\n",
      "20.38955139125497\n",
      "ZHDB_0429_6_20.txt\n",
      "20.020712209302324\n",
      "ZHDB_0506_6_20.txt\n",
      "21.727206946454412\n",
      "ZHDB_0513_6_20.txt\n",
      "26.554232804232804\n",
      "ZHDB_0520_6_20.txt\n",
      "29.031858028650845\n",
      "ZHDB_0527_6_20.txt\n",
      "31.311519497982967\n",
      "ZHDB_0603_6_20.txt\n",
      "30.77525071633238\n",
      "ZHDB_0610_6_20.txt\n",
      "32.085363398429635\n",
      "ZHDB_0617_6_20.txt\n",
      "34.106646353075604\n",
      "ZHDB_0624_6_20.txt\n",
      "37.85112732095491\n",
      "ZHDB_0701_6_20.txt\n",
      "33.43844731977819\n",
      "ZHDB_0708_6_20.txt\n",
      "38.195925803246105\n",
      "ZHDB_0715_6_20.txt\n",
      "32.05002989834563\n",
      "ZHDB_0722_6_20.txt\n",
      "32.89571290944124\n",
      "ZHDB_0729_6_20.txt\n",
      "31.585909003647533\n",
      "ZHDB_0805_6_20.txt\n",
      "33.045300113250285\n",
      "ZHDB_0812_6_20.txt\n",
      "34.25737359550562\n",
      "ZHDB_0819_6_20.txt\n",
      "41.09584880188998\n",
      "ZHDB_0826_6_20.txt\n",
      "38.640755230481375\n"
     ]
    }
   ],
   "source": [
    "average_distance = []\n",
    "keep_distance = []\n",
    "average_number_of_persons = []\n",
    "for filename in os.listdir(r\"C:\\Users\\robin\\Documents\\Bachelorarbeit\\Daten ZHDB\"):    \n",
    "    if \"txt\" in filename and \"geo\" not in filename:\n",
    "        df = get_whole_df(filename, 5, 5)\n",
    "        selectID = df\n",
    "#         average_persons = get_average_person_number(filename, df[\"frame_x\"].unique())\n",
    "#         print(average_persons)\n",
    "#         average_number_of_persons.append(average_persons)\n",
    "        #Alle Abstände berechnen die in Fläche liegen\n",
    "        all_frames = []\n",
    "        borderDistance = []\n",
    "        selectIDBorder = selectID\n",
    "        for gruppe in selectIDBorder[\"GroupID\"].unique():\n",
    "            selectGroup = selectIDBorder.loc[selectIDBorder[\"GroupID\"] == gruppe, [\"id\", \"frame_x\", \"x/m\", \"y/m_x\"]]\n",
    "            for frame in selectGroup[\"frame_x\"].unique():\n",
    "                selectFrame = selectGroup.loc[selectGroup[\"frame_x\"] == frame]\n",
    "                #plt.scatter(selectFrame[\"x/m\"], selectFrame[\"y/m_x\"])\n",
    "                #plotBahnsteig()\n",
    "                for contact in itertools.combinations(selectFrame[\"id\"], 2):\n",
    "                    all_frames.append(frame)\n",
    "                    firstPosition = selectFrame.loc[selectFrame[\"id\"] == contact[0], [\"x/m\", \"y/m_x\"]]\n",
    "                    secondPosition = selectFrame.loc[selectFrame[\"id\"] == contact[1], [\"x/m\", \"y/m_x\"]]\n",
    "                    distanz = getDistance(x1 = float(firstPosition[\"x/m\"]), x2 = float(secondPosition[\"x/m\"]), y1 = float(firstPosition[\"y/m_x\"]), y2 = float(secondPosition[\"y/m_x\"]))\n",
    "                    borderDistance.append(distanz)\n",
    "                    \n",
    "        ave_bahnsteiger = get_average_person_number(filename, all_frames)\n",
    "        average_number_of_persons.append(ave_bahnsteiger)\n",
    "        print(ave_bahnsteiger)\n",
    "        ave_distance = statistics.mean(borderDistance)\n",
    "        average_distance.append(ave_distance)\n",
    "        #Anzahl an Verletzungen des Mindestabstands\n",
    "        verletzungen = len([i for i in borderDistance if i < 1.5]) / len(borderDistance)\n",
    "        eingehalten = len([i for i in borderDistance if i > 1.5]) / len(borderDistance)\n",
    "        keep_distance.append(eingehalten)\n",
    "    "
   ]
  },
  {
   "cell_type": "code",
   "execution_count": 7,
   "metadata": {
    "scrolled": true
   },
   "outputs": [
    {
     "data": {
      "text/plain": [
       "[47.50486809045226,\n",
       " 43.74564697849095,\n",
       " 45.43086642599278,\n",
       " 53.2890395480226,\n",
       " 45.16318252730109,\n",
       " 43.877912543887646,\n",
       " 21.275563909774437,\n",
       " 16.779141104294478,\n",
       " 19.600709219858157,\n",
       " 20.278022947925862,\n",
       " 19.821571238348866,\n",
       " 20.38955139125497,\n",
       " 20.020712209302324,\n",
       " 21.727206946454412,\n",
       " 26.554232804232804,\n",
       " 29.031858028650845,\n",
       " 31.311519497982967,\n",
       " 30.77525071633238,\n",
       " 32.085363398429635,\n",
       " 34.106646353075604,\n",
       " 37.85112732095491,\n",
       " 33.43844731977819,\n",
       " 38.195925803246105,\n",
       " 32.05002989834563,\n",
       " 32.89571290944124,\n",
       " 31.585909003647533,\n",
       " 33.045300113250285,\n",
       " 34.25737359550562,\n",
       " 41.09584880188998,\n",
       " 38.640755230481375]"
      ]
     },
     "execution_count": 7,
     "metadata": {},
     "output_type": "execute_result"
    }
   ],
   "source": [
    "average_number_of_persons"
   ]
  },
  {
   "cell_type": "code",
   "execution_count": 8,
   "metadata": {},
   "outputs": [
    {
     "name": "stdout",
     "output_type": "stream",
     "text": [
      "-0.8435224634404563\n"
     ]
    }
   ],
   "source": [
    "#Korrelation mit rel. Häufigkeit wie Abstand eingehalten wurde\n",
    "print(np.corrcoef(keep_distance, average_number_of_persons)[0, 1])\n",
    "#https://www.medistat.de/glossar/korrelation-assoziation/korrelationskoeffizient-nach-pearson/#:~:text=Interpretation%3A,%2C%20wenn%20r%20%3D%200%20ist.\n"
   ]
  },
  {
   "cell_type": "code",
   "execution_count": 9,
   "metadata": {
    "scrolled": true
   },
   "outputs": [
    {
     "name": "stdout",
     "output_type": "stream",
     "text": [
      "-0.5866411795508131\n"
     ]
    }
   ],
   "source": [
    "#Korrelation durchschnitlichem Abstand\n",
    "print(np.corrcoef(average_distance, average_number_of_persons)[0, 1])"
   ]
  },
  {
   "cell_type": "code",
   "execution_count": 10,
   "metadata": {},
   "outputs": [],
   "source": [
    "average_number_of_persons = np.array(average_number_of_persons)\n",
    "slope, intercept, r_value, p_value, std_err = linregress(average_number_of_persons,average_distance)"
   ]
  },
  {
   "cell_type": "code",
   "execution_count": 11,
   "metadata": {},
   "outputs": [],
   "source": [
    "plt.rcParams[\"font.family\"] = \"Microsoft Yi Baiti\""
   ]
  },
  {
   "cell_type": "code",
   "execution_count": 15,
   "metadata": {},
   "outputs": [
    {
     "data": {
      "image/png": "[encoded data removed]",
      "text/plain": [
       "<Figure size 432x288 with 1 Axes>"
      ]
     },
     "metadata": {},
     "output_type": "display_data"
    }
   ],
   "source": [
    "sb.set()\n",
    "sb.scatterplot(average_number_of_persons, average_distance, color = \"slategrey\", label = \"Abstand/Personenanzahl pro Tag\")\n",
    "sb.lineplot(average_number_of_persons, intercept + slope*average_number_of_persons, color = \"c\", label = \"Lineare Regression\")\n",
    "plt.xlabel(\"Anzahl [n]\", fontsize = 18,fontname=\"Microsoft Yi Baiti\")\n",
    "plt.xticks(fontsize = 16,fontname=\"Microsoft Yi Baiti\")\n",
    "plt.ylabel(\"Abstand [m]\", fontsize = 18,fontname=\"Microsoft Yi Baiti\")\n",
    "plt.yticks(fontsize = 16,fontname=\"Microsoft Yi Baiti\")\n",
    "plt.title(\"Korrelation zwischen Abstand und Personenanzahl\", fontsize = 20,fontname=\"Microsoft Yi Baiti\")\n",
    "plt.legend(facecolor = \"white\", fontsize = 14, prop={'family':\"Microsoft Yi Baiti\", 'size':14})\n",
    "plt.savefig(r\"Korrelationsplots\\Korrelation 5er Traube außerhalb Einstiegsfläche\", dpi = 200)"
   ]
  },
  {
   "cell_type": "code",
   "execution_count": 13,
   "metadata": {},
   "outputs": [
    {
     "data": {
      "text/plain": [
       "(-0.5866411795508132, 0.0006562086616581043)"
      ]
     },
     "execution_count": 13,
     "metadata": {},
     "output_type": "execute_result"
    }
   ],
   "source": [
    "from scipy.stats import pearsonr\n",
    "pearsonr(average_distance, average_number_of_persons)"
   ]
  }
 ],
 "metadata": {
  "kernelspec": {
   "display_name": "Python 3",
   "language": "python",
   "name": "python3"
  },
  "language_info": {
   "codemirror_mode": {
    "name": "ipython",
    "version": 3
   },
   "file_extension": ".py",
   "mimetype": "text/x-python",
   "name": "python",
   "nbconvert_exporter": "python",
   "pygments_lexer": "ipython3",
   "version": "3.8.3"
  }
 },
 "nbformat": 4,
 "nbformat_minor": 4
}
